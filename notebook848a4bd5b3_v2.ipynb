{
 "cells": [
  {
   "cell_type": "code",
   "execution_count": 1,
   "id": "de798635",
   "metadata": {
    "_cell_guid": "b1076dfc-b9ad-4769-8c92-a6c4dae69d19",
    "_uuid": "8f2839f25d086af736a60e9eeb907d3b93b6e0e5",
    "execution": {
     "iopub.execute_input": "2024-06-27T09:58:43.918555Z",
     "iopub.status.busy": "2024-06-27T09:58:43.918099Z",
     "iopub.status.idle": "2024-06-27T09:58:44.895351Z",
     "shell.execute_reply": "2024-06-27T09:58:44.893942Z"
    },
    "papermill": {
     "duration": 0.984947,
     "end_time": "2024-06-27T09:58:44.898613",
     "exception": false,
     "start_time": "2024-06-27T09:58:43.913666",
     "status": "completed"
    },
    "tags": []
   },
   "outputs": [
    {
     "name": "stdout",
     "output_type": "stream",
     "text": [
      "/kaggle/input/titanic/train.csv\n",
      "/kaggle/input/titanic/test.csv\n",
      "/kaggle/input/titanic/gender_submission.csv\n"
     ]
    }
   ],
   "source": [
    "# This Python 3 environment comes with many helpful analytics libraries installed\n",
    "# It is defined by the kaggle/python Docker image: https://github.com/kaggle/docker-python\n",
    "# For example, here's several helpful packages to load\n",
    "\n",
    "import numpy as np # linear algebra\n",
    "import pandas as pd # data processing, CSV file I/O (e.g. pd.read_csv)\n",
    "\n",
    "# Input data files are available in the read-only \"../input/\" directory\n",
    "# For example, running this (by clicking run or pressing Shift+Enter) will list all files under the input directory\n",
    "\n",
    "import os\n",
    "for dirname, _, filenames in os.walk('/kaggle/input'):\n",
    "    for filename in filenames:\n",
    "        print(os.path.join(dirname, filename))\n",
    "\n",
    "# You can write up to 20GB to the current directory (/kaggle/working/) that gets preserved as output when you create a version using \"Save & Run All\" \n",
    "# You can also write temporary files to /kaggle/temp/, but they won't be saved outside of the current session"
   ]
  },
  {
   "cell_type": "code",
   "execution_count": 2,
   "id": "760cfc31",
   "metadata": {
    "execution": {
     "iopub.execute_input": "2024-06-27T09:58:44.905181Z",
     "iopub.status.busy": "2024-06-27T09:58:44.904673Z",
     "iopub.status.idle": "2024-06-27T09:58:51.410829Z",
     "shell.execute_reply": "2024-06-27T09:58:51.409341Z"
    },
    "papermill": {
     "duration": 6.512649,
     "end_time": "2024-06-27T09:58:51.413718",
     "exception": false,
     "start_time": "2024-06-27T09:58:44.901069",
     "status": "completed"
    },
    "tags": []
   },
   "outputs": [
    {
     "name": "stdout",
     "output_type": "stream",
     "text": [
      "Cross-validation scores: [0.81005587 0.80898876 0.82022472 0.7752809  0.82022472]\n",
      "Mean accuracy: 0.8070 (+/- 0.0331)\n",
      "Submission file created.\n"
     ]
    }
   ],
   "source": [
    "import pandas as pd\n",
    "import numpy as np\n",
    "from sklearn.model_selection import cross_val_score, StratifiedKFold\n",
    "from sklearn.ensemble import RandomForestClassifier, GradientBoostingClassifier\n",
    "from sklearn.impute import SimpleImputer\n",
    "from sklearn.preprocessing import StandardScaler\n",
    "from sklearn.pipeline import Pipeline\n",
    "from sklearn.feature_selection import SelectFromModel\n",
    "from sklearn.svm import SVC\n",
    "from sklearn.linear_model import LogisticRegression\n",
    "from sklearn.base import BaseEstimator, TransformerMixin, ClassifierMixin\n",
    "from sklearn.metrics import accuracy_score\n",
    "import re\n",
    "\n",
    "# Load the data\n",
    "train_data = pd.read_csv('../input/titanic/train.csv')\n",
    "test_data = pd.read_csv('../input/titanic/test.csv')\n",
    "\n",
    "class FeatureEngineer(BaseEstimator, TransformerMixin):\n",
    "    def fit(self, X, y=None):\n",
    "        return self\n",
    "\n",
    "    def transform(self, X):\n",
    "        X_ = X.copy()\n",
    "        \n",
    "        # Extract title from Name\n",
    "        X_['Title'] = X_['Name'].apply(lambda x: re.search(' ([A-Z][a-z]+)\\.', x).group(1))\n",
    "        title_mapping = {\"Mr\": 1, \"Miss\": 2, \"Mrs\": 3, \"Master\": 4, \"Dr\": 5, \"Rev\": 6, \"Col\": 7, \"Major\": 7, \"Mlle\": 8, \"Countess\": 8, \"Ms\": 2, \"Lady\": 8, \"Jonkheer\": 8, \"Don\": 9, \"Dona\": 9, \"Mme\": 8,\"Capt\": 7, \"Sir\": 9}\n",
    "        X_['Title'] = X_['Title'].map(title_mapping)\n",
    "        \n",
    "        # Family size\n",
    "        X_['FamilySize'] = X_['SibSp'] + X_['Parch'] + 1\n",
    "        \n",
    "        # Is alone\n",
    "        X_['IsAlone'] = (X_['FamilySize'] == 1).astype(int)\n",
    "        \n",
    "        # Bin fare\n",
    "        X_['FareBin'] = pd.qcut(X_['Fare'], 5, labels=False)\n",
    "        \n",
    "        # Bin age\n",
    "        X_['AgeBin'] = pd.cut(X_['Age'], 5, labels=False)\n",
    "        \n",
    "        # Drop unnecessary columns\n",
    "        X_ = X_.drop(['Name', 'Ticket', 'Cabin', 'PassengerId'], axis=1)\n",
    "        \n",
    "        return X_\n",
    "\n",
    "class DataPreprocessor(BaseEstimator, TransformerMixin):\n",
    "    def fit(self, X, y=None):\n",
    "        return self\n",
    "\n",
    "    def transform(self, X):\n",
    "        X_ = X.copy()\n",
    "        \n",
    "        # Convert categorical variables to numeric\n",
    "        X_['Sex'] = X_['Sex'].map({'female': 0, 'male': 1})\n",
    "        X_['Embarked'] = X_['Embarked'].map({'S': 0, 'C': 1, 'Q': 2})\n",
    "        \n",
    "        return X_\n",
    "\n",
    "class EnsembleClassifier(BaseEstimator, ClassifierMixin):\n",
    "    def __init__(self):\n",
    "        self.rf = RandomForestClassifier(n_estimators=100, random_state=42)\n",
    "        self.gb = GradientBoostingClassifier(n_estimators=100, random_state=42)\n",
    "        self.svm = SVC(probability=True, random_state=42)\n",
    "        self.lr = LogisticRegression(random_state=42)\n",
    "\n",
    "    def fit(self, X, y):\n",
    "        self.rf.fit(X, y)\n",
    "        self.gb.fit(X, y)\n",
    "        self.svm.fit(X, y)\n",
    "        self.lr.fit(X, y)\n",
    "        return self\n",
    "\n",
    "    def predict(self, X):\n",
    "        predictions = np.column_stack([\n",
    "            self.rf.predict_proba(X)[:, 1],\n",
    "            self.gb.predict_proba(X)[:, 1],\n",
    "            self.svm.predict_proba(X)[:, 1],\n",
    "            self.lr.predict_proba(X)[:, 1]\n",
    "        ])\n",
    "        return (predictions.mean(axis=1) > 0.5).astype(int)\n",
    "\n",
    "# Create the pipeline\n",
    "pipeline = Pipeline([\n",
    "    ('feature_engineer', FeatureEngineer()),\n",
    "    ('preprocessor', DataPreprocessor()),\n",
    "    ('imputer', SimpleImputer(strategy='median')),\n",
    "    ('scaler', StandardScaler()),\n",
    "    ('feature_selector', SelectFromModel(RandomForestClassifier(n_estimators=100, random_state=42))),\n",
    "    ('classifier', EnsembleClassifier())\n",
    "])\n",
    "\n",
    "# Prepare the data\n",
    "X = train_data.drop('Survived', axis=1)\n",
    "y = train_data['Survived']\n",
    "\n",
    "# Perform cross-validation\n",
    "cv = StratifiedKFold(n_splits=5, shuffle=True, random_state=42)\n",
    "scores = cross_val_score(pipeline, X, y, cv=cv, scoring='accuracy')\n",
    "\n",
    "print(f\"Cross-validation scores: {scores}\")\n",
    "print(f\"Mean accuracy: {scores.mean():.4f} (+/- {scores.std() * 2:.4f})\")\n",
    "\n",
    "# Fit the pipeline on all training data\n",
    "pipeline.fit(X, y)\n",
    "\n",
    "# Make predictions on test data\n",
    "test_predictions = pipeline.predict(test_data)\n",
    "\n",
    "# Create submission file\n",
    "submission = pd.DataFrame({\n",
    "    \"PassengerId\": test_data[\"PassengerId\"],\n",
    "    \"Survived\": test_predictions\n",
    "})\n",
    "submission.to_csv('submission.csv', index=False)\n",
    "print(\"Submission file created.\")"
   ]
  },
  {
   "cell_type": "code",
   "execution_count": null,
   "id": "781fa101",
   "metadata": {
    "papermill": {
     "duration": 0.002033,
     "end_time": "2024-06-27T09:58:51.418248",
     "exception": false,
     "start_time": "2024-06-27T09:58:51.416215",
     "status": "completed"
    },
    "tags": []
   },
   "outputs": [],
   "source": []
  }
 ],
 "metadata": {
  "kaggle": {
   "accelerator": "none",
   "dataSources": [
    {
     "databundleVersionId": 26502,
     "sourceId": 3136,
     "sourceType": "competition"
    }
   ],
   "dockerImageVersionId": 30732,
   "isGpuEnabled": false,
   "isInternetEnabled": false,
   "language": "python",
   "sourceType": "notebook"
  },
  "kernelspec": {
   "display_name": "Python 3",
   "language": "python",
   "name": "python3"
  },
  "language_info": {
   "codemirror_mode": {
    "name": "ipython",
    "version": 3
   },
   "file_extension": ".py",
   "mimetype": "text/x-python",
   "name": "python",
   "nbconvert_exporter": "python",
   "pygments_lexer": "ipython3",
   "version": "3.10.13"
  },
  "papermill": {
   "default_parameters": {},
   "duration": 11.119064,
   "end_time": "2024-06-27T09:58:52.044758",
   "environment_variables": {},
   "exception": null,
   "input_path": "__notebook__.ipynb",
   "output_path": "__notebook__.ipynb",
   "parameters": {},
   "start_time": "2024-06-27T09:58:40.925694",
   "version": "2.5.0"
  }
 },
 "nbformat": 4,
 "nbformat_minor": 5
}
